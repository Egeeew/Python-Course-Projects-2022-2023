{
 "cells": [
  {
   "cell_type": "code",
   "execution_count": null,
   "metadata": {},
   "outputs": [],
   "source": [
    "#   Ödev 03.12.2022\n",
    "#ödev: okulumuzdaki öğretmenlerin, isimleri, branşları, girdikleri sınıfları; her bir öğretmenin bu verilerini bir listeye ekleyelim. Sonrasında bütün öğretmenleri de daha büyük bir listeye ekleyelim.\n",
    "# bu listenin kaç elemanlı olduğunu ekrana yazdıralım\n",
    "# öğretmen isimlerine göre alfabetik olarak ekrana yazdıralım\n",
    "#öğretmenin isimleri yazarak onunla ilgili verilerin olduğu listeyi ekrana yazdıralım"
   ]
  },
  {
   "cell_type": "code",
   "execution_count": null,
   "metadata": {},
   "outputs": [],
   "source": [
    "#Sadece sınıfımıza giren öğretmenlere 1 değerini girmeyenlere 0 değerini girdim.\n",
    "ogretmenler = [[\"Fatih YILDIZ\",\"Biyoloji\",0],[\"Yonca BOZKURT\",\"Biyoloji\",1],[\"Merve BOZKURT\",\"Biyoloji\",0],[\"Ömer KARADAĞ\",\"Fizik\",1],[\"Seçkin KURTBÖRÜ\",\"Fizik\",0],[\"Merve BİÇMEN\",\"Fizik\",0],[\"Seval Gürel ERDOĞDU\",\"Kimya\",0],[\"Soner ATAMAN\",\"Kimya\",0],[\"Dursun Murat TETİK\",\"Kimya\",1],[\"Erdinç TÜRKELİ\",\"Matematik\",1],[\"Hakan Erbaş\",\"Matematik\",0],[\"İlknur ÖZGENÇ\",\"Matematik\",0],[\"Mustafa Gültekin GÜLER\",\"Matematik\",0],[\"Veysel KAYA\",\"Matematik\",0],[\"Özkay ÖZKAN\",\"Matematik\",0],[\"Leyla ARATTAN\",\"Coğrafya\",1],[\"Ahmet YAVUZ\",\"Felsefe\",1],[\"Hüseyin AYDOĞAN\",\"Tarih\",1],[\"Ceyda Güngör\",\"Tarih\",0],[\"Ahmet Özer\",\"Türk Dili ve Edebiyatı\",1],[\"Aslıhan Mutlu İNCESU\",\"Türk Dili ve Edebiyatı\",0],[\"Meral Ünlü YAVUZ\",\"Türk Dili ve Edebiyatı\",0],[\"Fatih İSTANBULLU\",\"Türk Dili ve Edebiyatı\",0],[\"Mustafa ÇİMEN\",\"Almanca\",0],[\"Atacan KARAKUŞ\",\"Almanca\",1],[\"Cengiz YAMAN\",\"İngilizce\",0],[\"Emel TOPÇU\",\"İngilizce\",1],[\"Seniha GÜNGÖR\",\"İngilizce\",0],[\"Ayşe FIRAT\",\"Beden Eğitimi ve Spor\",0],[\"Uğur ERASLAN\",\"Beden Eğitimi ve Spor\",1],[\"Ersin BALCI\",\"Görsel Sanatlar\",0],[\"Feray ÇINAROĞLU\",\"Müzik\",1],[\"İsmail YAYLI\",\"Bilişim Teknolojileri\",1],[\"Medine KUL\",\"Din Kültürü ve Ahlak Bilgisi\",0],[\"Nergis HARMANDA\",\"Din Kültürü ve Ahlak Bilgisi\",1],[\"Şeyma ARSLAN\",\"Psikolojik Danışman\",0],[\"İdris ÖZTÜRK\",\"Psikolojik Danışman\",0]]"
   ]
  },
  {
   "cell_type": "code",
   "execution_count": null,
   "metadata": {},
   "outputs": [],
   "source": [
    "yeni_Ogretmen = input(\"Okula Gelen Yeni Öğretmenin Adı ve Soyadını Giriniz: \")\n",
    "y_Ogr_brans = input(\"Öğretmenin Branşını Giriniz: \")\n",
    "y_Ogr_giris = int(input(\"Yeni gelen öğretmen 10/E Sınıfının dersine girecekse '1', aksi halde '0' giriniz: \"))\n",
    "\n",
    "ogretmen = [yeni_Ogretmen, y_Ogr_brans, y_Ogr_giris]\n",
    "ogretmenler.append(ogretmen)"
   ]
  },
  {
   "cell_type": "code",
   "execution_count": null,
   "metadata": {},
   "outputs": [],
   "source": [
    "ogretmenler.sort()\n",
    "print(f\"\"\"\n",
    "DOĞAN CÜCELOĞLU FEN LİSESİ ÖĞRETMEN LİSTESİ\n",
    "1. Değişken = Öğretmen Ad ve Soyadı\n",
    "2. Değişken = Öğretmenin Branşı\n",
    "3. Değişken = Öğretmen 10/E Sınıfına giriyor mu? '1' = Evet '2' = Hayır\n",
    "{ogretmenler}\n",
    "\"\"\")"
   ]
  }
 ],
 "metadata": {
  "kernelspec": {
   "display_name": "Python 3.10.5 64-bit",
   "language": "python",
   "name": "python3"
  },
  "language_info": {
   "name": "python",
   "version": "3.10.5"
  },
  "orig_nbformat": 4,
  "vscode": {
   "interpreter": {
    "hash": "8c3d4d9970fc5c09c50d9318a9c7fbf4d0159e4b28833276f5678ee22bded273"
   }
  }
 },
 "nbformat": 4,
 "nbformat_minor": 2
}
